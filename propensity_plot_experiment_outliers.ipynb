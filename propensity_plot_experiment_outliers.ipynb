{
 "cells": [
  {
   "cell_type": "markdown",
   "source": [
    "Initialization"
   ],
   "metadata": {
    "collapsed": false,
    "pycharm": {
     "name": "#%% md\n"
    }
   }
  },
  {
   "cell_type": "code",
   "execution_count": 1,
   "outputs": [
    {
     "name": "stdout",
     "output_type": "stream",
     "text": [
      "Seed: 0\n"
     ]
    }
   ],
   "source": [
    "%load_ext autoreload\n",
    "%autoreload 2\n",
    "import unittest\n",
    "from propensity_with_density import *\n",
    "from true_overlap_scipy import *\n",
    "import numpy as np\n",
    "import matplotlib.pyplot as plt\n",
    "from sklearn.linear_model import LogisticRegression\n",
    "from sklearn.ensemble import RandomForestClassifier\n",
    "import math"
   ],
   "metadata": {
    "collapsed": false,
    "pycharm": {
     "name": "#%%\n"
    }
   }
  },
  {
   "cell_type": "markdown",
   "source": [
    "Parameters"
   ],
   "metadata": {
    "collapsed": false,
    "pycharm": {
     "name": "#%% md\n"
    }
   }
  },
  {
   "cell_type": "code",
   "execution_count": 2,
   "outputs": [],
   "source": [
    "epsilon = 0.05\n",
    "N_samples = 500\n",
    "dim = 2\n",
    "mean2 = 1\n",
    "sd1 = 1\n",
    "sd2 = sd1\n",
    "# nr. of randomizations of simulated data\n",
    "trials = 15\n",
    "\n",
    "# around which mean the outliers are located\n",
    "outlier_mean = 5\n",
    "\n",
    "# nr. of changes\n",
    "outlier_array = [0.0, 0.025, 0.05, 0.075, 0.1]\n",
    "runs = len(outlier_array)"
   ],
   "metadata": {
    "collapsed": false,
    "pycharm": {
     "name": "#%%\n"
    }
   }
  },
  {
   "cell_type": "markdown",
   "source": [
    "Trials"
   ],
   "metadata": {
    "collapsed": false,
    "pycharm": {
     "name": "#%% md\n"
    }
   }
  },
  {
   "cell_type": "code",
   "execution_count": 3,
   "outputs": [
    {
     "name": "stdout",
     "output_type": "stream",
     "text": [
      "Round: 0\n",
      "Round: 1\n",
      "Round: 2\n",
      "Round: 3\n",
      "Round: 4\n",
      "Round: 0\n",
      "Round: 1\n",
      "Round: 2\n",
      "Round: 3\n",
      "Round: 4\n",
      "Round: 0\n",
      "Round: 1\n",
      "Round: 2\n",
      "Round: 3\n",
      "Round: 4\n"
     ]
    }
   ],
   "source": [
    "def sample_normal(mean1, mean2, sd1, sd2, n, m):\n",
    "    x1 = np.random.normal(mean1, sd1, (n, m))\n",
    "    x2 = np.random.normal(mean2, sd2, (n, m))\n",
    "\n",
    "    return x1, x2\n",
    "\n",
    "def sample_normal_2_means(mean1, mean2, sd1, sd2, n, m):\n",
    "    x1 = np.random.normal(mean1, sd1, (n, m))\n",
    "\n",
    "    bool_array = np.random.choice([0, 1], size=(n,1))\n",
    "    region1 = np.random.normal(-mean2, sd2, (n, m))\n",
    "    region2 = np.random.normal(mean2, sd2, (n, m))\n",
    "    bool_matrix = np.repeat(bool_array, m, axis=1)\n",
    "    x2 = region1 * bool_matrix + region2 * (1 - bool_matrix)\n",
    "    return x1, x2\n",
    "\n",
    "# n: nr. of samples\n",
    "# m: nr. of dimenions\n",
    "# outliers will be taking up a % of total samples\n",
    "# outlier_chance: % of samples consisting of outliers (rest % is normal samples)\n",
    "# outliermean: mean where outliers are (e.g. =5, outliers will be on (5,5) if in 2D)\n",
    "# returns x1, x2 and non_outlier_matrix (a vector indicating which samples are not outliers with 1 and outliers with 0)\n",
    "def sample_normal_outliers(mean1, mean2, sd1, sd2, n, m, outlier_chance, outliermean):\n",
    "    true_samples1, true_samples2 = sample_normal(mean1, mean2, sd1, sd2, n, m)\n",
    "    outliers1, outliers2 = sample_normal(outliermean, outliermean, sd1, sd2, n, m)\n",
    "    bool_array = np.random.choice([0, 1], p=[outlier_chance, 1-outlier_chance], size=(n,1))\n",
    "    bool_matrix = np.repeat(bool_array, m, axis=1)\n",
    "    x1 = true_samples1 * bool_matrix + outliers1 * (1 - bool_matrix)\n",
    "    x2 = true_samples2 * bool_matrix + outliers2 * (1 - bool_matrix)\n",
    "    # binary matrix which indicates which samples are non-outliers (with 1 being non-outlier)\n",
    "    non_outlier_matrix = np.concatenate([bool_matrix, bool_matrix]).reshape(-1, m)\n",
    "    return x1, x2, non_outlier_matrix\n",
    "\n",
    "def outlier_iou(prediction, y, non_outlier_matrix):\n",
    "    tp = fp = fn = 0.0\n",
    "    for p, t, n in zip(prediction, y, non_outlier_matrix):\n",
    "        # if not an outlier\n",
    "        if n == 1:\n",
    "            if p == 1:\n",
    "                if t == 1:\n",
    "                    tp += 1\n",
    "                else:\n",
    "                    fp += 1\n",
    "            else:\n",
    "                if t == 1:\n",
    "                    fn += 1\n",
    "    if (tp + fp + fn) == 0:\n",
    "        return 0\n",
    "    return tp / (tp + fp + fn)\n",
    "\n",
    "classifier_names = [\"lr\", \"dtc\", \"rfc\"]\n",
    "classifier_results = np.empty((3, runs))\n",
    "\n",
    "for k in range(3):\n",
    "\n",
    "    results = np.empty(runs)\n",
    "    classifier = classifier_names[k]\n",
    "    iou_array = np.empty(trials)\n",
    "\n",
    "    for i in range(runs):\n",
    "        print(\"Round: \" + str(i))\n",
    "\n",
    "        outlier_chance = outlier_array[i]\n",
    "        iou_array = np.empty(trials)\n",
    "\n",
    "        for j in range(trials):\n",
    "            # Set new seed\n",
    "            seed = j\n",
    "            np.random.seed(seed)\n",
    "\n",
    "            # Generate simulated data with new seed\n",
    "            x1, x2, non_outlier_matrix = sample_normal_outliers(0, mean2, sd1, sd2, N_samples, dim, outlier_chance, 5)\n",
    "\n",
    "            X = np.concatenate([x1, x2]).reshape(-1, dim)\n",
    "            y = np.concatenate([np.ones(len(x1)), -np.ones(len(x2))])\n",
    "\n",
    "            mean1_gaussian = np.zeros(dim)\n",
    "            mean2_gaussian = np.ones(dim) * mean2\n",
    "            cov1 = np.diag(np.ones(dim) * sd1)\n",
    "            cov2 = np.diag(np.ones(dim) * sd2)\n",
    "            true_overlap_labels = check_true_overlap(mean1_gaussian, mean2_gaussian, cov1, cov2, x1, x2, epsilon, dim).astype(int)\n",
    "\n",
    "            # Setup Propensity score model\n",
    "            propensity = PropensityDensity(classifier, epsilon)\n",
    "            propensity.tune_hyperparameters(classifier, X, y)\n",
    "\n",
    "            predictions = propensity.predict(X)\n",
    "            iou = outlier_iou(predictions, true_overlap_labels, non_outlier_matrix[:, 0])\n",
    "            iou_array[j] = (iou)\n",
    "\n",
    "        results[i] = np.average(iou_array)\n",
    "    classifier_results[k] = results\n",
    "\n",
    "lr = classifier_results[0]\n",
    "dtc = classifier_results[1]\n",
    "rfc = classifier_results[2]"
   ],
   "metadata": {
    "collapsed": false,
    "pycharm": {
     "name": "#%%\n"
    }
   }
  },
  {
   "cell_type": "code",
   "execution_count": 4,
   "outputs": [
    {
     "data": {
      "text/plain": "<Figure size 640x480 with 1 Axes>",
      "image/png": "[encoded data removed]"
     },
     "metadata": {},
     "output_type": "display_data"
    }
   ],
   "source": [
    "plt.figure(1)\n",
    "plt.xticks(outlier_array)\n",
    "plt.plot(outlier_array, lr, label=\"Logistic regression\")\n",
    "plt.plot(outlier_array, dtc, label=\"Decision tree classifier\")\n",
    "plt.plot(outlier_array, rfc, label=\"Random forest classifier\")\n",
    "plt.xlabel(\"Portion of outliers\")\n",
    "plt.ylabel(\"IoU\")\n",
    "plt.legend()\n",
    "plt.show()"
   ],
   "metadata": {
    "collapsed": false,
    "pycharm": {
     "name": "#%%\n"
    }
   }
  },
  {
   "cell_type": "code",
   "execution_count": 5,
   "outputs": [
    {
     "name": "stdout",
     "output_type": "stream",
     "text": [
      "IoU with outliers:\n",
      "[0.87996829 0.82575454 0.71815215 0.66231486 0.64114396]\n",
      "[0.42564183 0.3575662  0.33077842 0.35202444 0.35984386]\n",
      "[0.76765872 0.72953244 0.69836043 0.68059645 0.66613974]\n"
     ]
    }
   ],
   "source": [
    "print(\"IoU:\")\n",
    "print(lr)\n",
    "print(dtc)\n",
    "print(rfc)"
   ],
   "metadata": {
    "collapsed": false,
    "pycharm": {
     "name": "#%%\n"
    }
   }
  }
 ],
 "metadata": {
  "kernelspec": {
   "display_name": "Python 3",
   "language": "python",
   "name": "python3"
  },
  "language_info": {
   "codemirror_mode": {
    "name": "ipython",
    "version": 2
   },
   "file_extension": ".py",
   "mimetype": "text/x-python",
   "name": "python",
   "nbconvert_exporter": "python",
   "pygments_lexer": "ipython2",
   "version": "2.7.6"
  }
 },
 "nbformat": 4,
 "nbformat_minor": 0
}